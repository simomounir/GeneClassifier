{
 "cells": [
  {
   "cell_type": "code",
   "execution_count": null,
   "metadata": {},
   "outputs": [],
   "source": [
    "#to install the package: clone and install locally\n",
    "#git clone https://github.com/simomounir/GeneClassifier.git\n",
    "#pip install .\n",
    "# or \n",
    "#pip install git+https:https://github.com/simomounir/GeneClassifier.git"
   ]
  },
  {
   "cell_type": "code",
   "execution_count": null,
   "metadata": {},
   "outputs": [],
   "source": [
    "\n",
    "from sklearn.base import BaseEstimator, ClassifierMixin\n",
    "from sklearn.model_selection import train_test_split, GridSearchCV\n",
    "from geneclassifier.clf import GeneClassifier\n",
    "import pandas as pd\n",
    "from matplotlib import pyplot \n",
    "import pandas as pd\n",
    "import io\n",
    "import tarfile\n",
    "import urllib.request\n"
   ]
  },
  {
   "cell_type": "code",
   "execution_count": null,
   "metadata": {},
   "outputs": [],
   "source": [
    "source = 'https://archive.ics.uci.edu/ml/machine-learning-databases/00401/TCGA-PANCAN-HiSeq-801x20531.tar.gz'\n",
    "tar = tarfile.open(fileobj=urllib.request.urlopen(source), mode=\"r|gz\")\n",
    "for member in tar:\n",
    "    filename = member.name\n",
    "    if 'data' in filename : \n",
    "        content = tar.extractfile(member).read()\n",
    "        data = pd.read_csv(io.BytesIO(content), encoding='utf8')\n",
    "    elif 'labels' in filename:\n",
    "        content = tar.extractfile(member).read()\n",
    "        labels = pd.read_csv(io.BytesIO(content), encoding='utf8')\n"
   ]
  },
  {
   "cell_type": "code",
   "execution_count": null,
   "metadata": {},
   "outputs": [],
   "source": [
    "X = data.drop(data.columns[0],axis=1)\n",
    "Y = labels.Class\n",
    "X_train, X_test, y_train, y_test = train_test_split(\n",
    "    X, Y, test_size=0.2, random_state=42)\n"
   ]
  },
  {
   "cell_type": "code",
   "execution_count": null,
   "metadata": {},
   "outputs": [],
   "source": [
    "\n",
    "from sklearn.decomposition import PCA\n",
    "from sklearn.svm import SVC\n",
    "pca = PCA(n_components=5)\n",
    "lsvc_model = SVC(kernel = 'linear', random_state = 10)\n",
    "GCLF = GeneClassifier(model=lsvc_model, reduction= pca)\n",
    "trained = GCLF.fit(X_train,y_train)\n",
    "\n",
    "\n",
    "\n",
    "print('train score: '+str(GCLF.score(X_train,y_train)))\n",
    "print('test score:  '+str(GCLF.score(X_test,y_test)))\n"
   ]
  },
  {
   "cell_type": "code",
   "execution_count": null,
   "metadata": {},
   "outputs": [],
   "source": [
    "GCLF.plot_reduction_model()\n",
    "pyplot.show()"
   ]
  },
  {
   "cell_type": "code",
   "execution_count": null,
   "metadata": {},
   "outputs": [],
   "source": [
    "GCLF.plot_balancing()\n",
    "pyplot.show()"
   ]
  },
  {
   "cell_type": "code",
   "execution_count": null,
   "metadata": {},
   "outputs": [],
   "source": [
    "X = data.drop(data.columns[0],axis=1)\n",
    "Y = labels.Class\n",
    "X_train, X_test, y_train, y_test = train_test_split(\n",
    "    X, Y, test_size=0.25, random_state=42)\n",
    "\n",
    "from sklearn.ensemble import RandomForestClassifier\n",
    "\n",
    "from sklearn.decomposition import FactorAnalysis\n",
    "fa = FactorAnalysis(n_components=5)\n",
    "rf_model = RandomForestClassifier()\n",
    "GCLF = GeneClassifier(model=rf_model, reduction= fa)\n",
    "trained = GCLF.fit(X_train,y_train)\n",
    "\n",
    "\n",
    "print('train score: '+str(GCLF.score(X_train,y_train)))\n",
    "print('test score:  '+str(GCLF.score(X_test,y_test)))"
   ]
  },
  {
   "cell_type": "code",
   "execution_count": null,
   "metadata": {},
   "outputs": [],
   "source": [
    "GCLF.plot_reduction_model()\n",
    "pyplot.show()"
   ]
  },
  {
   "cell_type": "code",
   "execution_count": null,
   "metadata": {},
   "outputs": [],
   "source": [
    "parameters = {'model':(RandomForestClassifier(), SVC()), 'reduction':(PCA(n_components=3),PCA(n_components=5), FactorAnalysis(n_components=5))}\n",
    "gc = GeneClassifier()\n",
    "\n",
    "clf = GridSearchCV(gc, parameters)\n",
    "clf.fit(X_train, y_train)\n",
    "clf.cv_results_"
   ]
  },
  {
   "cell_type": "code",
   "execution_count": null,
   "metadata": {},
   "outputs": [],
   "source": [
    "clf.best_params_"
   ]
  },
  {
   "cell_type": "code",
   "execution_count": null,
   "metadata": {},
   "outputs": [],
   "source": []
  }
 ],
 "metadata": {
  "kernelspec": {
   "display_name": "Python 3.9.7 ('Alami')",
   "language": "python",
   "name": "python3"
  },
  "language_info": {
   "codemirror_mode": {
    "name": "ipython",
    "version": 3
   },
   "file_extension": ".py",
   "mimetype": "text/x-python",
   "name": "python",
   "nbconvert_exporter": "python",
   "pygments_lexer": "ipython3",
   "version": "3.9.7"
  },
  "orig_nbformat": 4,
  "vscode": {
   "interpreter": {
    "hash": "a052e4cabf2240f9932c9f14f5cbbca1c1535a25fd2036fcfc2b8ce3a77aa998"
   }
  }
 },
 "nbformat": 4,
 "nbformat_minor": 2
}
